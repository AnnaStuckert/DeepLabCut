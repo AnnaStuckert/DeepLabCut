{
 "cells": [
  {
   "cell_type": "markdown",
   "id": "619fc646-bfb3-4dba-9117-10e0e9d4720c",
   "metadata": {},
   "source": [
    "# Demo - Transfer Learning from a COCO dataset"
   ]
  },
  {
   "cell_type": "code",
   "execution_count": null,
   "id": "79eb1572-ddf5-46de-959c-4cc1e010b19c",
   "metadata": {},
   "outputs": [],
   "source": [
    "import copy\n",
    "from pathlib import Path\n",
    "\n",
    "import torch\n",
    "import torch.nn as nn\n",
    "from torch.utils.data import DataLoader\n",
    "\n",
    "import deeplabcut\n",
    "import deeplabcut.pose_estimation_pytorch.utils as utils\n",
    "import deeplabcut.pose_estimation_pytorch.config.utils as config_utils\n",
    "\n",
    "from deeplabcut.pose_estimation_pytorch.models import PoseModel\n",
    "from deeplabcut.pose_estimation_pytorch import COCOLoader\n",
    "from deeplabcut.pose_estimation_pytorch.data import build_transforms\n",
    "from deeplabcut.pose_estimation_pytorch.data.collate import COLLATE_FUNCTIONS\n",
    "from deeplabcut.pose_estimation_pytorch.modelzoo.inference import _parse_model_snapshot\n",
    "from deeplabcut.pose_estimation_pytorch.modelzoo.utils import (\n",
    "    _get_config_model_paths,\n",
    "    _update_config,\n",
    ")\n",
    "from deeplabcut.pose_estimation_pytorch.runners import build_training_runner\n",
    "from deeplabcut.pose_estimation_pytorch.task import Task"
   ]
  },
  {
   "cell_type": "markdown",
   "id": "d7b3b8d5-6a85-4027-84fd-f42af3fff1f4",
   "metadata": {},
   "source": [
    "## Data & Configuration "
   ]
  },
  {
   "cell_type": "code",
   "execution_count": null,
   "id": "4ece96d6-846b-4dab-8391-4f8a272813b9",
   "metadata": {},
   "outputs": [],
   "source": [
    "experiment_path = Path(\"/Users/niels/Desktop/coco_transfer_experiments\") / \"experiment_1\"\n",
    "\n",
    "# create the experiment folder structure\n",
    "train_dir = experiment_path / \"train\"\n",
    "test_dir = experiment_path / \"test\"\n",
    "experiment_path.mkdir(parents=True, exist_ok=True)\n",
    "train_dir.mkdir(exist_ok=True)\n",
    "test_dir.mkdir(exist_ok=True)\n",
    "model_config_path = train_dir / \"pytorch_config.yaml\"\n",
    "\n",
    "# Path to the folder containing the COCO dataset\n",
    "# Format:\n",
    "#   quadruped80k/\n",
    "#     annotations/\n",
    "#     images/\n",
    "dataset_path = Path(\"/Users/niels/Documents/upamathis/dlc/benchmarks/modelzoo/quadruped80k\")\n",
    "train_file = \"train.json\"\n",
    "test_file = \"test.json\"\n",
    "\n",
    "project_name = \"superanimal_topviewmouse\"\n",
    "model_name = \"hrnetw32\"\n",
    "\n",
    "max_individuals = 10  # only needed for detector\n",
    "num_bodyparts = 17 # the number of bodyparts in the project to transfer learn to\n",
    "\n",
    "device = \"cpu\""
   ]
  },
  {
   "cell_type": "markdown",
   "id": "03d0ba4f-0f5e-4437-af59-6897aadb4929",
   "metadata": {},
   "source": [
    "## Transfer Learning"
   ]
  },
  {
   "cell_type": "markdown",
   "id": "88e870cd-72a9-42a1-a7c0-beeeabeda6d5",
   "metadata": {},
   "source": [
    "### Creating the Experiment Configuration File"
   ]
  },
  {
   "cell_type": "code",
   "execution_count": null,
   "id": "810ea751-9a2c-4f4e-9d62-f99e813711cf",
   "metadata": {},
   "outputs": [],
   "source": [
    "# Get paths to SuperAnimal configs and weights\n",
    "model_cfg, project_cfg, pose_model_path, detector_model_path = _get_config_model_paths(\n",
    "    project_name, model_name\n",
    ")\n",
    "pose_model_path = _parse_model_snapshot(Path(pose_model_path), device)\n",
    "detector_model_path = _parse_model_snapshot(Path(detector_model_path), device)\n",
    "\n",
    "# Update the configuration file to have the correct number of output joints\n",
    "model_cfg = config_utils.replace_default_values(\n",
    "    model_cfg,\n",
    "    num_bodyparts=len(project_cfg[\"bodyparts\"]),\n",
    "    num_individuals=max_individuals,\n",
    "    backbone_output_channels=model_cfg[\"model\"][\"backbone_output_channels\"]\n",
    ")\n",
    "model_cfg[\"device\"] = device\n",
    "\n",
    "# print results\n",
    "print(pose_model_path)\n",
    "print(detector_model_path)\n",
    "print(\"Model Config\")\n",
    "print(\"------------\")\n",
    "config_utils.pretty_print(model_cfg)\n",
    "\n",
    "# save config\n",
    "print(\"------------\")\n",
    "print(f\"Saving Config to {model_config_path}\")\n",
    "config_utils.write_config(model_config_path, model_cfg, overwrite=True)"
   ]
  },
  {
   "cell_type": "markdown",
   "id": "d47348ec-8d3d-4f2a-9795-8c8890b69884",
   "metadata": {},
   "source": [
    "### Loading the dataset"
   ]
  },
  {
   "cell_type": "code",
   "execution_count": null,
   "id": "9f0d3183-4397-410b-a5ba-3da290ad7cdd",
   "metadata": {},
   "outputs": [],
   "source": [
    "loader = COCOLoader(\n",
    "    project_root=dataset_path,\n",
    "    model_config_path=model_config_path,\n",
    "    train_json_filename=train_file,\n",
    "    test_json_filename=test_file,\n",
    ")"
   ]
  },
  {
   "cell_type": "markdown",
   "id": "4c6b2068-6daf-443a-9e14-71cd3262ebbe",
   "metadata": {},
   "source": [
    "### Training "
   ]
  },
  {
   "cell_type": "code",
   "execution_count": null,
   "id": "52613d5d-fed4-4b44-a861-56cb8e1f0fe6",
   "metadata": {},
   "outputs": [],
   "source": [
    "# You can update these values here - or directly in the model_config file, \n",
    "# but before creating the COCOLoader\n",
    "epochs = 4\n",
    "save_epochs = 2\n",
    "detector_epochs = None  # if 0, will not train the detector\n",
    "detector_save_epochs = None  # if 0, will not train the detector\n",
    "\n",
    "updates = {\n",
    "    \"train_settings\": {},\n",
    "    \"detector\": {\"train_settings\": {}},\n",
    "}\n",
    "if epochs is not None:\n",
    "    updates[\"train_settings\"][\"epochs\"] = epochs\n",
    "if save_epochs is not None:\n",
    "    updates[\"train_settings\"][\"save_epochs\"] = save_epochs\n",
    "if detector_epochs is not None:\n",
    "    updates[\"detector\"][\"train_settings\"][\"epochs\"] = detector_epochs\n",
    "if detector_save_epochs is not None:\n",
    "    updates[\"detector\"][\"train_settings\"][\"save_epochs\"] = detector_save_epochs\n",
    "\n",
    "loader.update_model_cfg(updates)"
   ]
  },
  {
   "cell_type": "code",
   "execution_count": null,
   "id": "a336d155-272b-47d5-94f3-46136dcae5a8",
   "metadata": {},
   "outputs": [],
   "source": [
    "# Loads the pose model, builds a training runner - adapted from apis/train.py\n",
    "pose_task = Task(loader.model_cfg[\"method\"])\n",
    "model = PoseModel.build(loader.model_cfg[\"model\"])\n",
    "runner = build_training_runner(\n",
    "    runner_config=loader.model_cfg[\"runner\"],\n",
    "    model_folder=loader.model_folder,\n",
    "    task=pose_task,\n",
    "    model=model,\n",
    "    device=device,\n",
    "    snapshot_path=None,  # we don't use 'pose_model_path' here, as we only want to load the backbone weights\n",
    "    logger=loader.model_cfg.get(\"logger\", None),\n",
    ")"
   ]
  },
  {
   "cell_type": "code",
   "execution_count": null,
   "id": "2e8dae8d-cff8-44cb-8a82-3ead748e7816",
   "metadata": {},
   "outputs": [],
   "source": [
    "def load_backbone_weights(snapshot_path: Path) -> dict:\n",
    "    snapshot = torch.load(snapshot_path, map_location=device)\n",
    "    state_dict = {\n",
    "        \".\".join(k.split(\".\")[1:]): v  # remove 'backbone.' from the keys\n",
    "        for k, v in snapshot[\"model\"].items()\n",
    "        if k.startswith(\"backbone.\")\n",
    "    }\n",
    "    print(f\"Kept {len(state_dict)} weights\")\n",
    "    return state_dict\n",
    "\n",
    "\n",
    "backbone_state_dict = load_backbone_weights(pose_model_path)\n",
    "runner.model.backbone.load_state_dict(backbone_state_dict)"
   ]
  },
  {
   "cell_type": "code",
   "execution_count": null,
   "id": "cd5db7ba-79f2-480e-8bfe-66750ab38c2c",
   "metadata": {},
   "outputs": [],
   "source": [
    "# Loads the dataset, trains\n",
    "transform = build_transforms(loader.model_cfg[\"data\"][\"train\"])\n",
    "inf_transform = build_transforms(loader.model_cfg[\"data\"][\"inference\"])\n",
    "\n",
    "train_dataset = loader.create_dataset(transform=transform, mode=\"train\", task=pose_task)\n",
    "valid_dataset = loader.create_dataset(transform=inf_transform, mode=\"test\", task=pose_task)\n",
    "\n",
    "collate_fn = None\n",
    "if collate_fn_cfg := loader.model_cfg[\"data\"][\"train\"].get(\"collate\"):\n",
    "    collate_fn = COLLATE_FUNCTIONS.build(collate_fn_cfg)\n",
    "    print(f\"Using custom collate function: {collate_fn_cfg}\")\n",
    "\n",
    "batch_size = loader.model_cfg[\"train_settings\"][\"batch_size\"]\n",
    "num_workers = loader.model_cfg[\"train_settings\"][\"dataloader_workers\"]\n",
    "pin_memory = loader.model_cfg[\"train_settings\"][\"dataloader_pin_memory\"]\n",
    "train_dataloader = DataLoader(\n",
    "    train_dataset,\n",
    "    batch_size=batch_size,\n",
    "    shuffle=True,\n",
    "    collate_fn=collate_fn,\n",
    "    num_workers=num_workers,\n",
    "    pin_memory=pin_memory,\n",
    ")\n",
    "valid_dataloader = DataLoader(\n",
    "    valid_dataset,\n",
    "    batch_size=1,\n",
    "    shuffle=False,\n",
    "    num_workers=num_workers,\n",
    "    pin_memory=pin_memory,\n",
    ")\n",
    "\n",
    "# Train the model\n",
    "runner.fit(\n",
    "    train_dataloader,\n",
    "    valid_dataloader,\n",
    "    epochs=loader.model_cfg[\"train_settings\"][\"epochs\"],\n",
    "    display_iters=loader.model_cfg[\"train_settings\"][\"display_iters\"],\n",
    ")"
   ]
  },
  {
   "cell_type": "code",
   "execution_count": null,
   "id": "ccee4ef3-f818-41de-b86f-69618a40a353",
   "metadata": {},
   "outputs": [],
   "source": []
  }
 ],
 "metadata": {
  "kernelspec": {
   "display_name": "Python 3 (ipykernel)",
   "language": "python",
   "name": "python3"
  },
  "language_info": {
   "codemirror_mode": {
    "name": "ipython",
    "version": 3
   },
   "file_extension": ".py",
   "mimetype": "text/x-python",
   "name": "python",
   "nbconvert_exporter": "python",
   "pygments_lexer": "ipython3",
   "version": "3.10.13"
  }
 },
 "nbformat": 4,
 "nbformat_minor": 5
}
